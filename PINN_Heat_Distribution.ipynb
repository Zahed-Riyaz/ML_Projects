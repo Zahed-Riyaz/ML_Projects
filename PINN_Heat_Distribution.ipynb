{
  "cells": [
    {
      "cell_type": "code",
      "execution_count": 1,
      "metadata": {
        "id": "KqnuErn4zcB6"
      },
      "outputs": [],
      "source": [
        "import tensorflow as tf\n",
        "import numpy as np\n",
        "import matplotlib.pyplot as plt"
      ]
    },
    {
      "cell_type": "markdown",
      "metadata": {
        "id": "mxIy9R2UlJ8k"
      },
      "source": [
        "##Defining material properties :"
      ]
    },
    {
      "cell_type": "code",
      "execution_count": 2,
      "metadata": {
        "id": "yMyLoxgFzc-g"
      },
      "outputs": [],
      "source": [
        "k = 0.47        # Thermal conductivity (W/m.K)\n",
        "rho = 1573      # Density (kg/m^3)\n",
        "Cp = 967        # Specific heat capacity (J/kg.K)\n",
        "alpha = k / (rho * Cp)  # Thermal diffusivity (m^2/s)\n",
        "\n",
        "# Problem geometry and boundary conditions\n",
        "L = 0.01        # Thickness of the material (m)\n",
        "T_inf = 50      # Ambient air temperature (°C)\n",
        "T0 = 0          # Initial temperature (°C)\n",
        "h_top = 100     # Heat transfer coefficient on the top surface (W/m²K)\n",
        "h_bottom = 50   # Heat transfer coefficient on the bottom surface (W/m²K)"
      ]
    },
    {
      "cell_type": "markdown",
      "metadata": {
        "id": "cUOJpXf2lO3u"
      },
      "source": [
        "##Generating datapoints :"
      ]
    },
    {
      "cell_type": "code",
      "execution_count": 3,
      "metadata": {
        "id": "q37tyeVQzeSs"
      },
      "outputs": [],
      "source": [
        "x_points = 100  # Number of points along the x-axis\n",
        "t_points = 100  # Number of points along the time-axis\n",
        "x = np.linspace(0, L, x_points)  # Position\n",
        "t = np.linspace(0, 600, t_points)  # Time\n",
        "\n",
        "X, T = np.meshgrid(x, t)\n",
        "train_x = tf.convert_to_tensor(X.flatten().reshape(-1, 1), dtype=tf.float32)\n",
        "train_t = tf.convert_to_tensor(T.flatten().reshape(-1, 1), dtype=tf.float32)\n",
        "\n",
        "train_data = tf.concat([train_x, train_t], axis=1)"
      ]
    },
    {
      "cell_type": "markdown",
      "metadata": {
        "id": "7Lkg6wrJlWAu"
      },
      "source": [
        "##Building the Physics-Informed NN Class and Loss Function:"
      ]
    },
    {
      "cell_type": "code",
      "execution_count": 4,
      "metadata": {
        "id": "56u7338EOiIQ"
      },
      "outputs": [],
      "source": [
        "#Let's define the PINN Class\n",
        "class PINN(tf.keras.Model):\n",
        "    \"\"\"\n",
        "    Physics-Informed Neural Network (PINN) to approximate the solution of a PDE.\n",
        "    This class defines a fully connected feedforward neural network with a physics-informed loss function.\n",
        "    \"\"\"\n",
        "    def __init__(self, layers, activation='tanh'):\n",
        "        \"\"\"\n",
        "        Initialize the PINN model with the given architecture.\n",
        "\n",
        "        Args:\n",
        "            layers (list): List specifying the number of neurons in each layer, e.g., [2, 32, 32, 1].\n",
        "            activation (str): Activation function for the hidden layers (default is 'tanh').\n",
        "        \"\"\"\n",
        "        super().__init__()\n",
        "\n",
        "        # Input validation\n",
        "        if len(layers) < 2:\n",
        "            raise ValueError(\"The 'layers' argument must have at least two elements (input and output layers).\")\n",
        "\n",
        "        self.activation = activation\n",
        "        self.network = self.build_network(layers)\n",
        "\n",
        "    def build_network(self, layers):\n",
        "        \"\"\"\n",
        "        Create a sequential feedforward neural network.\n",
        "\n",
        "        Args:\n",
        "            layers (list): Architecture of the network.\n",
        "\n",
        "        Returns:\n",
        "            tf.keras.Sequential: The constructed network.\n",
        "        \"\"\"\n",
        "        model = tf.keras.Sequential()\n",
        "\n",
        "        for i in range(len(layers) - 1):\n",
        "            units = layers[i + 1]\n",
        "            if i < len(layers) - 2:\n",
        "                model.add(tf.keras.layers.Dense(units, activation=self.activation))\n",
        "            else:\n",
        "                model.add(tf.keras.layers.Dense(units))  # Output layer has no activation\n",
        "\n",
        "        return model\n",
        "\n",
        "    def call(self, inputs):\n",
        "        \"\"\"\n",
        "        Perform a forward pass through the network.\n",
        "\n",
        "        Args:\n",
        "            inputs (Tensor): Input tensor (e.g., containing spatial and temporal variables like x and t).\n",
        "\n",
        "        Returns:\n",
        "            Tensor: The output tensor (e.g., predicted solution T(x, t)).\n",
        "        \"\"\"\n",
        "        return self.network(inputs)"
      ]
    },
    {
      "cell_type": "code",
      "execution_count": 5,
      "metadata": {
        "id": "gVvYLQgRzhCC"
      },
      "outputs": [],
      "source": [
        "def loss_fn(model, x, t):\n",
        "    \"\"\"\n",
        "    Loss function for the PINN including PDE residual, boundary conditions, and initial conditions.\n",
        "    \"\"\"\n",
        "    with tf.GradientTape(persistent=True) as tape:\n",
        "        tape.watch([x, t])\n",
        "        inputs = tf.concat([x, t], axis=1)\n",
        "        u = model(inputs)\n",
        "\n",
        "        u_t = tape.gradient(u, t)\n",
        "        u_x = tape.gradient(u, x)\n",
        "\n",
        "    u_xx = tape.gradient(u_x, x)\n",
        "    del tape\n",
        "\n",
        "    # Physics-informed loss: Residual of the PDE (du/dt = alpha * d²u/dx²)\n",
        "    pde_loss = tf.reduce_mean(tf.square(u_t - alpha * u_xx))\n",
        "\n",
        "    # Boundary condition loss (convective heat transfer)\n",
        "    bc_top = tf.reduce_mean(tf.square(h_top * (T_inf - u) - k * u_x))  # At x = 0\n",
        "    bc_bottom = tf.reduce_mean(tf.square(h_bottom * (T_inf - u) - k * u_x))  # At x = L\n",
        "\n",
        "    # Initial condition loss (u(x, t=0) = T0)\n",
        "    ic_loss = tf.reduce_mean(tf.square(u - T0))\n",
        "\n",
        "    total_loss = pde_loss + bc_top + bc_bottom + ic_loss\n",
        "    return total_loss\n",
        "\n",
        "pinn_layers = [2, 64,64, 32, 1]\n",
        "pinn = PINN(layers=pinn_layers, activation='tanh')"
      ]
    },
    {
      "cell_type": "markdown",
      "metadata": {
        "id": "ig4lzG6TleGD"
      },
      "source": [
        "## Training our model :"
      ]
    },
    {
      "cell_type": "code",
      "execution_count": 6,
      "metadata": {
        "colab": {
          "base_uri": "https://localhost:8080/"
        },
        "collapsed": true,
        "id": "XS1wrNBRziom",
        "outputId": "eeafdd47-de5e-4062-87ac-a8cfb892f054"
      },
      "outputs": [
        {
          "name": "stderr",
          "output_type": "stream",
          "text": [
            "WARNING:tensorflow:Calling GradientTape.gradient on a persistent tape inside its context is significantly less efficient than calling it outside the context (it causes the gradient ops to be recorded on the tape, leading to increased CPU and memory usage). Only call GradientTape.gradient inside the context if you actually want to trace the gradient in order to compute higher order derivatives.\n",
            "WARNING:tensorflow:Calling GradientTape.gradient on a persistent tape inside its context is significantly less efficient than calling it outside the context (it causes the gradient ops to be recorded on the tape, leading to increased CPU and memory usage). Only call GradientTape.gradient inside the context if you actually want to trace the gradient in order to compute higher order derivatives.\n"
          ]
        },
        {
          "name": "stdout",
          "output_type": "stream",
          "text": [
            "Epoch 0: Loss = 32524152.000000\n",
            "Epoch 100: Loss = 18952786.000000\n",
            "Epoch 200: Loss = 15832637.000000\n",
            "Epoch 300: Loss = 13240627.000000\n",
            "Epoch 400: Loss = 11031986.000000\n",
            "Epoch 500: Loss = 9143882.000000\n",
            "Epoch 600: Loss = 7533078.000000\n",
            "Epoch 700: Loss = 6164474.000000\n",
            "Epoch 800: Loss = 5007883.000000\n",
            "Epoch 900: Loss = 4036508.250000\n",
            "Epoch 1000: Loss = 3226321.250000\n",
            "Epoch 1100: Loss = 2555742.500000\n",
            "Epoch 1200: Loss = 2005325.875000\n",
            "Epoch 1300: Loss = 1557626.500000\n",
            "Epoch 1400: Loss = 1196995.750000\n",
            "Epoch 1500: Loss = 909539.062500\n",
            "Epoch 1600: Loss = 682963.625000\n",
            "Epoch 1700: Loss = 506500.718750\n",
            "Epoch 1800: Loss = 370804.937500\n",
            "Epoch 1900: Loss = 267861.812500\n",
            "Epoch 2000: Loss = 190870.859375\n",
            "Epoch 2100: Loss = 134153.140625\n",
            "Epoch 2200: Loss = 93026.250000\n",
            "Epoch 2300: Loss = 63696.988281\n",
            "Epoch 2400: Loss = 43141.996094\n",
            "Epoch 2500: Loss = 28996.226562\n",
            "Epoch 2600: Loss = 19444.472656\n",
            "Epoch 2700: Loss = 13121.015625\n",
            "Epoch 2800: Loss = 9019.943359\n",
            "Epoch 2900: Loss = 6416.575195\n",
            "Epoch 3000: Loss = 4800.251953\n",
            "Epoch 3100: Loss = 3819.686523\n",
            "Epoch 3200: Loss = 3238.919678\n",
            "Epoch 3300: Loss = 2903.438232\n",
            "Epoch 3400: Loss = 2714.574951\n",
            "Epoch 3500: Loss = 2611.087891\n",
            "Epoch 3600: Loss = 2555.950195\n",
            "Epoch 3700: Loss = 2527.416992\n",
            "Epoch 3800: Loss = 2513.091309\n",
            "Epoch 3900: Loss = 2506.115723\n",
            "Epoch 4000: Loss = 2502.833008\n",
            "Epoch 4100: Loss = 2501.338867\n",
            "Epoch 4200: Loss = 2500.684082\n",
            "Epoch 4300: Loss = 2500.404541\n",
            "Epoch 4400: Loss = 2500.295410\n",
            "Epoch 4500: Loss = 2500.250244\n",
            "Epoch 4600: Loss = 2500.228271\n",
            "Epoch 4700: Loss = 2500.226074\n",
            "Epoch 4800: Loss = 2500.218018\n",
            "Epoch 4900: Loss = 2500.217041\n"
          ]
        }
      ],
      "source": [
        "lr_schedule = tf.keras.optimizers.schedules.ExponentialDecay(\n",
        "    initial_learning_rate=1e-3, decay_steps=1000, decay_rate=0.9)\n",
        "\n",
        "optimizer = tf.keras.optimizers.Adam(learning_rate=lr_schedule)\n",
        "epochs = 5000\n",
        "print_interval = 100\n",
        "loss_history = []\n",
        "\n",
        "for epoch in range(epochs):\n",
        "    with tf.GradientTape() as tape:\n",
        "        loss = loss_fn(pinn, train_x, train_t)\n",
        "    gradients = tape.gradient(loss, pinn.trainable_variables)\n",
        "    optimizer.apply_gradients(zip(gradients, pinn.trainable_variables))\n",
        "\n",
        "    loss_history.append(loss.numpy())\n",
        "    if epoch % print_interval == 0:\n",
        "        print(f\"Epoch {epoch}: Loss = {loss.numpy():.6f}\")"
      ]
    },
    {
      "cell_type": "markdown",
      "metadata": {
        "id": "dhI2apqXpMyX"
      },
      "source": [
        "###After running for 5000 epochs it roughly converged to loss=2499."
      ]
    },
    {
      "cell_type": "markdown",
      "metadata": {
        "id": "0nL2231Plr1W"
      },
      "source": [
        "## Loss as a function of number of epochs"
      ]
    },
    {
      "cell_type": "code",
      "execution_count": 7,
      "metadata": {
        "colab": {
          "base_uri": "https://localhost:8080/",
          "height": 564
        },
        "id": "vQylMt4lhCLx",
        "outputId": "e2b3ee14-dfe1-4353-a5d9-8106c9f26982"
      },
      "outputs": [
        {
          "data": {
            "image/png": "[encoded data removed]",
            "text/plain": [
              "<Figure size 1000x600 with 1 Axes>"
            ]
          },
          "metadata": {},
          "output_type": "display_data"
        }
      ],
      "source": [
        "#Plotting the loss over number of epochs.\n",
        "plt.figure(figsize=(10, 6))\n",
        "plt.plot(range(epochs), loss_history, label='Training Loss')\n",
        "plt.xlabel(\"Epochs\")\n",
        "plt.ylabel(\"Loss\")\n",
        "plt.title(\"Loss Function over Epochs\")\n",
        "plt.legend()\n",
        "plt.grid(True)\n",
        "plt.show()"
      ]
    },
    {
      "cell_type": "markdown",
      "metadata": {
        "id": "wAGUrNLllw1g"
      },
      "source": [
        "## Generating a test dataset to test model"
      ]
    },
    {
      "cell_type": "code",
      "execution_count": 8,
      "metadata": {
        "id": "CQ-47JPS2kTI"
      },
      "outputs": [],
      "source": [
        "# Test the model with new data\n",
        "x_test = np.linspace(0, L, x_points).reshape(-1, 1)\n",
        "t_test = np.linspace(0, 600, t_points).reshape(-1, 1)\n",
        "X_test, T_test = np.meshgrid(x_test, t_test)\n",
        "test_data = tf.convert_to_tensor(np.hstack((X_test.flatten().reshape(-1, 1), T_test.flatten().reshape(-1, 1))), dtype=tf.float32)"
      ]
    },
    {
      "cell_type": "code",
      "execution_count": null,
      "metadata": {
        "colab": {
          "base_uri": "https://localhost:8080/",
          "height": 472
        },
        "id": "zBqzX2LqzkfU",
        "outputId": "1baf96a9-6a86-4cac-b56e-40956cffe781"
      },
      "outputs": [
        {
          "data": {
            "image/png": "[encoded data removed]",
            "text/plain": [
              "<Figure size 640x480 with 1 Axes>"
            ]
          },
          "metadata": {},
          "output_type": "display_data"
        }
      ],
      "source": [
        "# Predict temperature values\n",
        "predictions = pinn(test_data)\n",
        "predicted_temperatures = tf.reshape(predictions, X_test.shape).numpy()\n",
        "\n",
        "# Plot temperature profiles at different time points\n",
        "time_indices = [0, 50, 99]\n",
        "for idx in time_indices:\n",
        "    plt.plot(x_test, predicted_temperatures[idx, :], label=f\"t={t_test[idx, 0]:.1f}s\")\n",
        "plt.xlabel(\"Position (m)\")\n",
        "plt.ylabel(\"Temperature (°C)\")\n",
        "plt.legend()\n",
        "plt.title(\"Predicted Temperature Distribution in degrees celsius\")\n",
        "plt.show()"
      ]
    }
  ],
  "metadata": {
    "colab": {
      "provenance": []
    },
    "kernelspec": {
      "display_name": "Python 3",
      "name": "python3"
    },
    "language_info": {
      "name": "python"
    }
  },
  "nbformat": 4,
  "nbformat_minor": 0
}
