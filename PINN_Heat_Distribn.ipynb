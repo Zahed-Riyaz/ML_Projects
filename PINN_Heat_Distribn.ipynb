{
 "cells": [
  {
   "cell_type": "code",
   "execution_count": 39,
   "metadata": {
    "id": "KqnuErn4zcB6"
   },
   "outputs": [],
   "source": [
    "import tensorflow as tf\n",
    "import numpy as np\n",
    "import matplotlib.pyplot as plt"
   ]
  },
  {
   "cell_type": "code",
   "execution_count": 40,
   "metadata": {
    "id": "yMyLoxgFzc-g"
   },
   "outputs": [],
   "source": [
    "k = 0.47       # Thermal conductivity (W/m.K)\n",
    "rho = 1573     # Density (kg/m^3)\n",
    "Cp = 967       # Specific heat capacity (J/kg.K)\n",
    "alpha = k / (rho * Cp)  # Thermal diffusivity (m^2/s)\n",
    "\n",
    "# Geometry and time\n",
    "L = 0.01       # Thickness of the part (m)\n",
    "T_inf = 50     # Ambient air temperature (°C)\n",
    "T0 = 0         # Initial temperature (°C)\n",
    "h1 = 100       # Convective heat transfer coefficient (top surface, W/m^2K)\n",
    "h2 = 50        # Convective heat transfer coefficient (bottom surface, W/m^2K)\n"
   ]
  },
  {
   "cell_type": "code",
   "execution_count": null,
   "metadata": {
    "id": "q37tyeVQzeSs"
   },
   "outputs": [],
   "source": [
    "# Creating a mesh grid for x (position) and t (time)\n",
    "x = np.linspace(0, L, 100)\n",
    "t = np.linspace(0, 600, 100)\n",
    "X, T = np.meshgrid(x, t)\n",
    "\n",
    "train_x = X.flatten().reshape(-1, 1)\n",
    "train_t = T.flatten().reshape(-1, 1)\n",
    "train_x = tf.convert_to_tensor(train_x, dtype=tf.float32)\n",
    "train_t = tf.convert_to_tensor(train_t, dtype=tf.float32)\n",
    "train_data = np.hstack((train_x, train_t))\n"
   ]
  },
  {
   "cell_type": "code",
   "execution_count": null,
   "metadata": {
    "id": "gVvYLQgRzhCC"
   },
   "outputs": [],
   "source": [
    "def loss_fn(model, x, t):\n",
    "    \"\"\"\n",
    "    Computes the loss for the PINN, including:\n",
    "    - PDE residual\n",
    "    - Boundary conditions\n",
    "    - Initial condition\n",
    "    \"\"\"\n",
    "    with tf.GradientTape(persistent=True) as tape1:\n",
    "        tape1.watch([x, t])\n",
    "        inputs = tf.concat([x, t], axis=1)\n",
    "        u = model(inputs)\n",
    "\n",
    "        # First-order derivatives\n",
    "        u_t = tape1.gradient(u, t)\n",
    "        u_x = tape1.gradient(u, x)\n",
    "\n",
    "    # Second-order derivative (u_xx)\n",
    "    u_xx = tape1.gradient(u_x, x)\n",
    "    del tape1  # Release resources after computing the required derivatives\n",
    "\n",
    "    # PDE Residual Loss: du/dt - alpha * d²u/dx² = 0\n",
    "    pde_loss = tf.reduce_mean(tf.square(u_t - alpha * u_xx))\n",
    "\n",
    "    # Boundary Conditions Loss\n",
    "    # Top surface (x=0)\n",
    "    bc1_loss = tf.reduce_mean(tf.square(h1 * (T_inf - u) - k * u_x))\n",
    "    # Bottom surface (x=L)\n",
    "    bc2_loss = tf.reduce_mean(tf.square(h2 * (T_inf - u) - k * u_x))\n",
    "\n",
    "    # Initial Condition Loss: u(x, t=0) = T0\n",
    "    ic_loss = tf.reduce_mean(tf.square(u - T0))\n",
    "    \n",
    "    total_loss = pde_loss + bc1_loss + bc2_loss + ic_loss\n",
    "    return total_loss\n",
    "\n",
    "\n",
    "\n",
    "pinn=PINN()"
   ]
  },
  {
   "cell_type": "code",
   "execution_count": null,
   "metadata": {
    "colab": {
     "base_uri": "https://localhost:8080/"
    },
    "id": "XS1wrNBRziom",
    "outputId": "75603eb0-845d-489c-875e-4ef2d970fc21"
   },
   "outputs": [
    {
     "name": "stderr",
     "output_type": "stream",
     "text": [
      "WARNING:tensorflow:Calling GradientTape.gradient on a persistent tape inside its context is significantly less efficient than calling it outside the context (it causes the gradient ops to be recorded on the tape, leading to increased CPU and memory usage). Only call GradientTape.gradient inside the context if you actually want to trace the gradient in order to compute higher order derivatives.\n",
      "WARNING:tensorflow:Calling GradientTape.gradient on a persistent tape inside its context is significantly less efficient than calling it outside the context (it causes the gradient ops to be recorded on the tape, leading to increased CPU and memory usage). Only call GradientTape.gradient inside the context if you actually want to trace the gradient in order to compute higher order derivatives.\n"
     ]
    },
    {
     "name": "stdout",
     "output_type": "stream",
     "text": [
      "Epoch 0: Loss = 28937572.0\n",
      "Epoch 100: Loss = 7351120.5\n",
      "Epoch 200: Loss = 6495620.0\n",
      "Epoch 300: Loss = 5860826.0\n",
      "Epoch 400: Loss = 5032485.5\n",
      "Epoch 500: Loss = 3905254.25\n",
      "Epoch 600: Loss = 2402990.75\n",
      "Epoch 700: Loss = 952709.5\n",
      "Epoch 800: Loss = 382950.0625\n",
      "Epoch 900: Loss = 262185.9375\n",
      "Epoch 1000: Loss = 197250.59375\n",
      "Epoch 1100: Loss = 162693.1875\n",
      "Epoch 1200: Loss = 139217.265625\n",
      "Epoch 1300: Loss = 121258.953125\n",
      "Epoch 1400: Loss = 106871.0078125\n",
      "Epoch 1500: Loss = 94881.71875\n",
      "Epoch 1600: Loss = 82787.671875\n",
      "Epoch 1700: Loss = 73919.328125\n",
      "Epoch 1800: Loss = 66731.8828125\n",
      "Epoch 1900: Loss = 60447.734375\n",
      "Epoch 2000: Loss = 54870.6953125\n",
      "Epoch 2100: Loss = 49885.30078125\n",
      "Epoch 2200: Loss = 45362.35546875\n",
      "Epoch 2300: Loss = 41216.9140625\n",
      "Epoch 2400: Loss = 37439.734375\n",
      "Epoch 2500: Loss = 34000.34765625\n",
      "Epoch 2600: Loss = 30773.0703125\n",
      "Epoch 2700: Loss = 27727.193359375\n",
      "Epoch 2800: Loss = 24896.41796875\n",
      "Epoch 2900: Loss = 22340.53125\n",
      "Epoch 3000: Loss = 20032.294921875\n",
      "Epoch 3100: Loss = 17954.97265625\n",
      "Epoch 3200: Loss = 16002.16796875\n",
      "Epoch 3300: Loss = 14229.2578125\n",
      "Epoch 3400: Loss = 12546.93359375\n",
      "Epoch 3500: Loss = 11063.455078125\n",
      "Epoch 3600: Loss = 9606.6787109375\n",
      "Epoch 3700: Loss = 8351.71484375\n",
      "Epoch 3800: Loss = 7230.10546875\n",
      "Epoch 3900: Loss = 6285.0498046875\n",
      "Epoch 4000: Loss = 5508.271484375\n",
      "Epoch 4100: Loss = 4883.365234375\n",
      "Epoch 4200: Loss = 4360.46875\n",
      "Epoch 4300: Loss = 3951.893798828125\n",
      "Epoch 4400: Loss = 3607.63525390625\n",
      "Epoch 4500: Loss = 3344.9384765625\n",
      "Epoch 4600: Loss = 3140.373046875\n",
      "Epoch 4700: Loss = 2991.68017578125\n",
      "Epoch 4800: Loss = 2880.260986328125\n",
      "Epoch 4900: Loss = 2799.353759765625\n",
      "Epoch 5000: Loss = 2739.36328125\n",
      "Epoch 5100: Loss = 2694.61083984375\n",
      "Epoch 5200: Loss = 2889.24951171875\n",
      "Epoch 5300: Loss = 2634.323486328125\n",
      "Epoch 5400: Loss = 2697.612060546875\n",
      "Epoch 5500: Loss = 2599.55712890625\n",
      "Epoch 5600: Loss = 3781.15380859375\n",
      "Epoch 5700: Loss = 2578.444091796875\n",
      "Epoch 5800: Loss = 3206.98779296875\n",
      "Epoch 5900: Loss = 2564.13720703125\n",
      "Epoch 6000: Loss = 2558.591552734375\n",
      "Epoch 6100: Loss = 2554.25439453125\n",
      "Epoch 6200: Loss = 2549.382568359375\n",
      "Epoch 6300: Loss = 4483.6708984375\n",
      "Epoch 6400: Loss = 2542.331787109375\n",
      "Epoch 6500: Loss = 3272.566162109375\n",
      "Epoch 6600: Loss = 2536.89111328125\n",
      "Epoch 6700: Loss = 2534.23828125\n",
      "Epoch 6800: Loss = 2553.055908203125\n",
      "Epoch 6900: Loss = 2530.093505859375\n",
      "Epoch 7000: Loss = 2528.680419921875\n",
      "Epoch 7100: Loss = 2526.62646484375\n",
      "Epoch 7200: Loss = 2644.118896484375\n",
      "Epoch 7300: Loss = 2523.72021484375\n",
      "Epoch 7400: Loss = 2523.009521484375\n",
      "Epoch 7500: Loss = 2522.36083984375\n",
      "Epoch 7600: Loss = 2520.197021484375\n",
      "Epoch 7700: Loss = 2519.0546875\n",
      "Epoch 7800: Loss = 3081.90185546875\n",
      "Epoch 7900: Loss = 2517.548583984375\n",
      "Epoch 8000: Loss = 2516.4892578125\n",
      "Epoch 8100: Loss = 2515.656494140625\n",
      "Epoch 8200: Loss = 2547.5400390625\n",
      "Epoch 8300: Loss = 2514.6533203125\n",
      "Epoch 8400: Loss = 2513.8974609375\n",
      "Epoch 8500: Loss = 2513.279541015625\n",
      "Epoch 8600: Loss = 2626.146484375\n",
      "Epoch 8700: Loss = 2512.350341796875\n",
      "Epoch 8800: Loss = 3523.5966796875\n",
      "Epoch 8900: Loss = 2511.6826171875\n",
      "Epoch 9000: Loss = 2511.13818359375\n",
      "Epoch 9100: Loss = 3103.5634765625\n",
      "Epoch 9200: Loss = 2510.491455078125\n",
      "Epoch 9300: Loss = 2510.2392578125\n",
      "Epoch 9400: Loss = 2509.991943359375\n",
      "Epoch 9500: Loss = 2509.467041015625\n",
      "Epoch 9600: Loss = 2583.671630859375\n",
      "Epoch 9700: Loss = 2508.978271484375\n",
      "Epoch 9800: Loss = 2508.594482421875\n",
      "Epoch 9900: Loss = 2515.010009765625\n"
     ]
    }
   ],
   "source": [
    "optimizer = tf.keras.optimizers.Adam(learning_rate=1e-4)\n",
    "epochs = 10000\n",
    "for epoch in range(epochs):\n",
    "    with tf.GradientTape() as tape:\n",
    "        loss = loss_fn(pinn, train_x, train_t)\n",
    "    gradients = tape.gradient(loss, pinn.trainable_variables)\n",
    "    optimizer.apply_gradients(zip(gradients, pinn.trainable_variables))\n",
    "\n",
    "    if epoch % 100 == 0:\n",
    "        print(f\"Epoch {epoch}: Loss = {loss.numpy()}\")\n"
   ]
  },
  {
   "cell_type": "code",
   "execution_count": null,
   "metadata": {
    "id": "CQ-47JPS2kTI"
   },
   "outputs": [],
   "source": [
    "x_test = np.linspace(0, L, 100).reshape(-1, 1)\n",
    "t_test = np.linspace(0, 600, 100).reshape(-1, 1)\n",
    "\n",
    "X_test, T_test = np.meshgrid(x_test, t_test)\n",
    "test_data = np.hstack((X_test.flatten().reshape(-1, 1), T_test.flatten().reshape(-1, 1)))\n",
    "\n",
    "test_data = tf.convert_to_tensor(test_data, dtype=tf.float32)\n",
    "\n",
    "pinn.save_weights('pinn_results.weights.h5')\n",
    "pinn.load_weights('pinn_results.weights.h5')\n",
    "predictions = pinn(test_data)"
   ]
  },
  {
   "cell_type": "code",
   "execution_count": null,
   "metadata": {
    "colab": {
     "base_uri": "https://localhost:8080/",
     "height": 472
    },
    "id": "zBqzX2LqzkfU",
    "outputId": "cbb1fcd5-10a3-44ae-eff2-e14da77d53a4"
   },
   "outputs": [
    {
     "data": {
      "image/png": "[encoded data removed]",
      "text/plain": [
       "<Figure size 640x480 with 1 Axes>"
      ]
     },
     "metadata": {},
     "output_type": "display_data"
    }
   ],
   "source": [
    "predicted_temperatures = tf.reshape(predictions, X_test.shape).numpy()\n",
    "\n",
    "# Plot temperature profiles at different time points\n",
    "time_indices = [0, 50, 99]\n",
    "for idx in time_indices:\n",
    "    plt.plot(x_test, predicted_temperatures[idx, :], label=f\"t={t_test[idx, 0]:.1f}s\")\n",
    "plt.xlabel(\"Position (m)\")\n",
    "plt.ylabel(\"Temperature (°C)\")\n",
    "plt.legend()\n",
    "plt.title(\"Predicted Temperature Distribution\")\n",
    "plt.show()\n"
   ]
  }
 ],
 "metadata": {
  "colab": {
   "provenance": []
  },
  "kernelspec": {
   "display_name": "Python 3",
   "name": "python3"
  },
  "language_info": {
   "name": "python"
  }
 },
 "nbformat": 4,
 "nbformat_minor": 0
}
